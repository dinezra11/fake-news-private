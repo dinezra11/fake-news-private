{
 "cells": [
  {
   "cell_type": "markdown",
   "source": [
    "# GoogleNews"
   ],
   "metadata": {
    "collapsed": false,
    "pycharm": {
     "name": "#%% md\n"
    }
   }
  },
  {
   "cell_type": "code",
   "execution_count": 3,
   "outputs": [],
   "source": [
    "from GoogleNews import GoogleNews as g\n",
    "import pandas as pd\n",
    "import newspaper"
   ],
   "metadata": {
    "collapsed": false,
    "pycharm": {
     "name": "#%%\n"
    }
   }
  },
  {
   "cell_type": "code",
   "execution_count": 32,
   "outputs": [],
   "source": [
    "def findArticles(query: str = None, language: str = \"en\"):\n",
    "    \"\"\" Given a query, find and return the relevant articles from Google News.\n",
    "\n",
    "    :param language:        The language of the articles.\n",
    "    :param query:           Search query.\n",
    "    :return:                A dataframe of the articles, with the columns:\n",
    "                            ['title', 'media', 'date', 'datetime', 'desc', 'link', 'img']\n",
    "    \"\"\"\n",
    "\n",
    "    def getContent(link):\n",
    "        \"\"\" Given a link to a specific article, return the content of it (text).\n",
    "\n",
    "        :param link:        The link for the article.\n",
    "        :return:            Article's content, as text.\n",
    "        \"\"\"\n",
    "\n",
    "        article = newspaper.Article(link)\n",
    "        article.download()\n",
    "        article.parse()\n",
    "\n",
    "        return [article.text, article.top_img]\n",
    "\n",
    "    # Find Articles\n",
    "    gn = g(lang=language, period='1d')\n",
    "    gn.search(query)\n",
    "    df = pd.DataFrame(gn.page_at(1))\n",
    "\n",
    "    # Merge content\n",
    "    df[['content', 'img']] = df['link'].apply(lambda l: getContent(l)).to_list()\n",
    "\n",
    "    # Process data\n",
    "    df.datetime.astype('string').str.slice(stop=19)\n",
    "\n",
    "    # Clear GoogleNews engine\n",
    "    gn.clear()\n",
    "\n",
    "    #return df[['title', 'desc', 'content', 'media', 'link', 'img', 'date', 'datetime']]\n",
    "    return df[['title', 'content', 'media', 'link', 'img', 'datetime']]"
   ],
   "metadata": {
    "collapsed": false,
    "pycharm": {
     "name": "#%%\n"
    }
   }
  },
  {
   "cell_type": "code",
   "execution_count": 33,
   "outputs": [],
   "source": [
    "df = findArticles(\"Sports\")"
   ],
   "metadata": {
    "collapsed": false,
    "pycharm": {
     "name": "#%%\n"
    }
   }
  },
  {
   "cell_type": "code",
   "execution_count": null,
   "outputs": [],
   "source": [
    "df.head()"
   ],
   "metadata": {
    "collapsed": false,
    "pycharm": {
     "name": "#%%\n"
    }
   }
  },
  {
   "cell_type": "code",
   "execution_count": 11,
   "outputs": [
    {
     "data": {
      "text/plain": "(10, 8)"
     },
     "execution_count": 11,
     "metadata": {},
     "output_type": "execute_result"
    }
   ],
   "source": [
    "df.shape"
   ],
   "metadata": {
    "collapsed": false,
    "pycharm": {
     "name": "#%%\n"
    }
   }
  },
  {
   "cell_type": "code",
   "execution_count": 29,
   "outputs": [],
   "source": [
    "news = g(lang=\"en\", period=\"1d\")\n",
    "news.search(\"Sports\")"
   ],
   "metadata": {
    "collapsed": false,
    "pycharm": {
     "name": "#%%\n"
    }
   }
  },
  {
   "cell_type": "code",
   "execution_count": 31,
   "outputs": [
    {
     "data": {
      "text/plain": "[{'title': 'US sports | Sport',\n  'media': 'The Guardian',\n  'date': '7 mins ago',\n  'datetime': datetime.datetime(2023, 5, 3, 22, 46, 38, 756546),\n  'desc': 'The former Olympic and world champion sprinter Tori Bowie has died at the \\nage of 32, her management company confirmed on Wednesday. Published: 9:40 \\nAM.',\n  'link': 'https://www.theguardian.com/sport/us-sport',\n  'img': 'data:image/gif;base64,R0lGODlhAQABAIAAAP///////yH5BAEKAAEALAAAAAABAAEAAAICTAEAOw=='},\n {'title': 'Governor proclaims May 2023 Physical Fitness and Sports Month',\n  'media': 'Vermont Business Magazine',\n  'date': '8 mins ago',\n  'datetime': datetime.datetime(2023, 5, 3, 22, 45, 38, 756546),\n  'desc': 'Vermont Business Magazine Governor Philip B. Scott has declared May 2023 \\nPhysical Fitness and Sports Month in Vermont, encouraging Vermonters to be \\nactive...',\n  'link': 'https://vermontbiz.com/news/2023/may/09/governor-proclaims-may-2023-physical-fitness-and-sports-month',\n  'img': 'data:image/gif;base64,R0lGODlhAQABAIAAAP///////yH5BAEKAAEALAAAAAABAAEAAAICTAEAOw=='},\n {'title': \"Oakland A's near deadline without 'concrete' request for $500 million in public money, says Vegas politician\",\n  'media': 'CBS Sports',\n  'date': '2 mins ago',\n  'datetime': datetime.datetime(2023, 5, 3, 22, 51, 38, 760546),\n  'desc': 'Oakland wants a $500 million tax deferment to build a new stadium on the \\nStrip.',\n  'link': 'https://www.cbssports.com/mlb/news/oakland-as-near-deadline-without-concrete-request-for-500-million-in-public-money-says-vegas-politician/',\n  'img': 'data:image/gif;base64,R0lGODlhAQABAIAAAP///////yH5BAEKAAEALAAAAAABAAEAAAICTAEAOw=='},\n {'title': 'Manchester United vs. Brighton odds, prediction, start time: English Premier League picks, best bets for May 4',\n  'media': 'CBS Sports',\n  'date': '1 mins ago',\n  'datetime': datetime.datetime(2023, 5, 3, 22, 52, 38, 764605),\n  'desc': 'SportsLine soccer expert Jon Eimer has locked in his EPL picks, \\npredictions, and best bets for Brighton vs. Man U on Thursday.',\n  'link': 'https://www.cbssports.com/soccer/news/manchester-united-vs-brighton-odds-prediction-start-time-english-premier-league-picks-best-bets-for-may-4/',\n  'img': 'data:image/gif;base64,R0lGODlhAQABAIAAAP///////yH5BAEKAAEALAAAAAABAAEAAAICTAEAOw=='},\n {'title': '2023 Wells Fargo Championship: Live stream, watch online, TV schedule, channel, tee times, coverage, radio',\n  'media': 'CBS Sports',\n  'date': '3 mins ago',\n  'datetime': datetime.datetime(2023, 5, 3, 22, 50, 38, 764605),\n  'desc': 'After a two-week stretch without a designated event, the PGA Tour welcomes \\nsome of the biggest names in the game to Quail Hollow Club for the 2023 \\nWells...',\n  'link': 'https://www.cbssports.com/golf/news/2023-wells-fargo-championship-live-stream-watch-online-tv-schedule-channel-tee-times-coverage-radio/',\n  'img': 'data:image/gif;base64,R0lGODlhAQABAIAAAP///////yH5BAEKAAEALAAAAAABAAEAAAICTAEAOw=='},\n {'title': 'National team players want complete overhaul of Canada Soccer leadership',\n  'media': 'CBC',\n  'date': '3 mins ago',\n  'datetime': datetime.datetime(2023, 5, 3, 22, 50, 38, 768562),\n  'desc': \"The Canadian men's and women's soccer teams are urging change in Canada \\nSoccer's leadership at the governing body's annual meeting this week in \\nSaint John,...\",\n  'link': 'https://www.cbc.ca/sports/soccer/canada-soccer-letter-leadership-change-1.6830527',\n  'img': 'data:image/gif;base64,R0lGODlhAQABAIAAAP///////yH5BAEKAAEALAAAAAABAAEAAAICTAEAOw=='},\n {'title': 'Tamyra Mensah-Stock retires from Olympic wrestling, signs with WWE',\n  'media': \"Olympics News, Scores, Video | NBC Sports' OlympicTalk\",\n  'date': '1 hour ago',\n  'datetime': datetime.datetime(2023, 5, 3, 21, 53, 38, 784834),\n  'desc': 'Tamyra Mensah-Stock, who in Tokyo became the first Black U.S. woman to win \\nan Olympic wrestling title, retired from the sport and signed with the WWE.',\n  'link': 'https://olympics.nbcsports.com/2023/05/03/tamyra-mensah-stock-wrestling-wwe-retire/',\n  'img': 'data:image/gif;base64,R0lGODlhAQABAIAAAP///////yH5BAEKAAEALAAAAAABAAEAAAICTAEAOw=='},\n {'title': \"Agent's Take: 2023 NFL rookie contract projections for key Round 1 picks, with a rookie wage scale explainer\",\n  'media': 'CBS Sports',\n  'date': '1 hour ago',\n  'datetime': datetime.datetime(2023, 5, 3, 21, 53, 38, 800992),\n  'desc': 'A handful of 2023 NFL Draft picks will sign their contracts over the next \\ncouple of days, which coincides with the start of rookie minicamps.',\n  'link': 'https://www.cbssports.com/nfl/news/agents-take-2023-nfl-rookie-contract-projections-for-key-round-1-picks-with-a-rookie-wage-scale-explainer/',\n  'img': 'data:image/gif;base64,R0lGODlhAQABAIAAAP///////yH5BAEKAAEALAAAAAABAAEAAAICTAEAOw=='},\n {'title': \"2023 Kentucky Derby horses, futures, odds, date: Expert who's nailed 10 Derby-Oaks Doubles gives picks\",\n  'media': 'CBS Sports',\n  'date': '1 hour ago',\n  'datetime': datetime.datetime(2023, 5, 3, 21, 53, 38, 814256),\n  'desc': \"SportsLine's Jody Demling has revealed his Kentucky Derby 2023 picks for \\nthe Run for the Roses on May 6.\",\n  'link': 'https://www.cbssports.com/general/news/2023-kentucky-derby-horses-futures-odds-date-expert-whos-nailed-10-derby-oaks-doubles-gives-picks/',\n  'img': 'data:image/gif;base64,R0lGODlhAQABAIAAAP///////yH5BAEKAAEALAAAAAABAAEAAAICTAEAOw=='}]"
     },
     "execution_count": 31,
     "metadata": {},
     "output_type": "execute_result"
    }
   ],
   "source": [
    "news.page_at(1)[:9]"
   ],
   "metadata": {
    "collapsed": false,
    "pycharm": {
     "name": "#%%\n"
    }
   }
  },
  {
   "cell_type": "code",
   "execution_count": 37,
   "outputs": [],
   "source": [
    "dfs = [pd.DataFrame(news.page_at(i)) for i in range(1, 14)]"
   ],
   "metadata": {
    "collapsed": false,
    "pycharm": {
     "name": "#%%\n"
    }
   }
  },
  {
   "cell_type": "code",
   "execution_count": 40,
   "outputs": [],
   "source": [
    "articles = pd.concat(dfs).reset_index()"
   ],
   "metadata": {
    "collapsed": false,
    "pycharm": {
     "name": "#%%\n"
    }
   }
  },
  {
   "cell_type": "code",
   "execution_count": 42,
   "outputs": [
    {
     "data": {
      "text/plain": "(130, 8)"
     },
     "execution_count": 42,
     "metadata": {},
     "output_type": "execute_result"
    }
   ],
   "source": [
    "articles.shape"
   ],
   "metadata": {
    "collapsed": false,
    "pycharm": {
     "name": "#%%\n"
    }
   }
  },
  {
   "cell_type": "code",
   "execution_count": 43,
   "outputs": [
    {
     "data": {
      "text/plain": "     index                                              title  \\\n0        0  Forest Green Rovers rank top of English Footba...   \n1        1  Jason Smyth: Paralympic sport's fastest man re...   \n2        2  Carla Ward: WSL title race will go right to th...   \n3        3  Dave Kindred among Kentucky Journalism Hall of...   \n4        4  Gunshots fired during shootout between sports ...   \n..     ...                                                ...   \n125      5  Amid Lamar Jackson trade request, Colts owner ...   \n126      6  Canada vs. Honduras odds, picks, how to watch,...   \n127      7  Scotland v Spain: Ryan Christie and Scott McTo...   \n128      8  Young Sports Volunteers Inspire at Belfast Cit...   \n129      9          HS sports recap: Spartans baseball wins 2   \n\n               media          date                   datetime  \\\n0         Sky Sports   51 mins ago                        NaT   \n1                BBC   59 mins ago                        NaT   \n2         Sky Sports    1 hour ago 2023-03-29 13:00:58.642336   \n3    Courier-Journal    1 hour ago 2023-03-29 13:00:58.642336   \n4      FOX 5 Atlanta    1 hour ago 2023-03-29 13:00:58.642336   \n..               ...           ...                        ...   \n125       CBS Sports  21 hours ago 2023-03-28 17:01:16.619419   \n126       CBS Sports  21 hours ago 2023-03-28 17:01:16.619419   \n127              BBC  21 hours ago 2023-03-28 17:01:16.619419   \n128     Ulster Rugby  22 hours ago 2023-03-28 16:01:16.619419   \n129   Village Living  22 hours ago 2023-03-28 16:01:16.619419   \n\n                                                  desc  \\\n0    Sport Positive Leagues has collated a large cr...   \n1    Ireland's Jason Smyth, Paralympic sport's fast...   \n2    Aston Villa women's manager Carla Ward expects...   \n3    Renown sportswriter Dave Kindred, who will be ...   \n4    Police are searching for multiple gunmen conne...   \n..                                                 ...   \n125  We may be in the middle of the offseason, but ...   \n126  Soccer best bets for Tuesday's Honduras vs. Ca...   \n127  Ryan Christie and Scott McTominay are backed i...   \n128  Young sports volunteers from across Ulster too...   \n129  Here's a look back at the last week in Mountai...   \n\n                                                  link  \\\n0    https://www.skysports.com/football/news/11095/...   \n1    https://www.bbc.com/sport/disability-sport/651...   \n2    https://www.skysports.com/watch/video/sports/f...   \n3    https://www.courier-journal.com/story/sports/2...   \n4    https://www.fox5atlanta.com/news/gunshots-fire...   \n..                                                 ...   \n125  https://www.cbssports.com/nfl/news/amid-lamar-...   \n126  https://www.cbssports.com/soccer/news/canada-v...   \n127        https://www.bbc.com/sport/football/65101210   \n128              https://ulster.rugby/content/siawards   \n129  https://www.villagelivingonline.com/sports/hs-...   \n\n                                                   img  \n0    data:image/gif;base64,R0lGODlhAQABAIAAAP//////...  \n1    data:image/gif;base64,R0lGODlhAQABAIAAAP//////...  \n2    data:image/gif;base64,R0lGODlhAQABAIAAAP//////...  \n3    data:image/gif;base64,R0lGODlhAQABAIAAAP//////...  \n4    data:image/gif;base64,R0lGODlhAQABAIAAAP//////...  \n..                                                 ...  \n125  data:image/gif;base64,R0lGODlhAQABAIAAAP//////...  \n126  data:image/gif;base64,R0lGODlhAQABAIAAAP//////...  \n127  data:image/gif;base64,R0lGODlhAQABAIAAAP//////...  \n128  data:image/gif;base64,R0lGODlhAQABAIAAAP//////...  \n129  data:image/gif;base64,R0lGODlhAQABAIAAAP//////...  \n\n[130 rows x 8 columns]",
      "text/html": "<div>\n<style scoped>\n    .dataframe tbody tr th:only-of-type {\n        vertical-align: middle;\n    }\n\n    .dataframe tbody tr th {\n        vertical-align: top;\n    }\n\n    .dataframe thead th {\n        text-align: right;\n    }\n</style>\n<table border=\"1\" class=\"dataframe\">\n  <thead>\n    <tr style=\"text-align: right;\">\n      <th></th>\n      <th>index</th>\n      <th>title</th>\n      <th>media</th>\n      <th>date</th>\n      <th>datetime</th>\n      <th>desc</th>\n      <th>link</th>\n      <th>img</th>\n    </tr>\n  </thead>\n  <tbody>\n    <tr>\n      <th>0</th>\n      <td>0</td>\n      <td>Forest Green Rovers rank top of English Footba...</td>\n      <td>Sky Sports</td>\n      <td>51 mins ago</td>\n      <td>NaT</td>\n      <td>Sport Positive Leagues has collated a large cr...</td>\n      <td>https://www.skysports.com/football/news/11095/...</td>\n      <td>data:image/gif;base64,R0lGODlhAQABAIAAAP//////...</td>\n    </tr>\n    <tr>\n      <th>1</th>\n      <td>1</td>\n      <td>Jason Smyth: Paralympic sport's fastest man re...</td>\n      <td>BBC</td>\n      <td>59 mins ago</td>\n      <td>NaT</td>\n      <td>Ireland's Jason Smyth, Paralympic sport's fast...</td>\n      <td>https://www.bbc.com/sport/disability-sport/651...</td>\n      <td>data:image/gif;base64,R0lGODlhAQABAIAAAP//////...</td>\n    </tr>\n    <tr>\n      <th>2</th>\n      <td>2</td>\n      <td>Carla Ward: WSL title race will go right to th...</td>\n      <td>Sky Sports</td>\n      <td>1 hour ago</td>\n      <td>2023-03-29 13:00:58.642336</td>\n      <td>Aston Villa women's manager Carla Ward expects...</td>\n      <td>https://www.skysports.com/watch/video/sports/f...</td>\n      <td>data:image/gif;base64,R0lGODlhAQABAIAAAP//////...</td>\n    </tr>\n    <tr>\n      <th>3</th>\n      <td>3</td>\n      <td>Dave Kindred among Kentucky Journalism Hall of...</td>\n      <td>Courier-Journal</td>\n      <td>1 hour ago</td>\n      <td>2023-03-29 13:00:58.642336</td>\n      <td>Renown sportswriter Dave Kindred, who will be ...</td>\n      <td>https://www.courier-journal.com/story/sports/2...</td>\n      <td>data:image/gif;base64,R0lGODlhAQABAIAAAP//////...</td>\n    </tr>\n    <tr>\n      <th>4</th>\n      <td>4</td>\n      <td>Gunshots fired during shootout between sports ...</td>\n      <td>FOX 5 Atlanta</td>\n      <td>1 hour ago</td>\n      <td>2023-03-29 13:00:58.642336</td>\n      <td>Police are searching for multiple gunmen conne...</td>\n      <td>https://www.fox5atlanta.com/news/gunshots-fire...</td>\n      <td>data:image/gif;base64,R0lGODlhAQABAIAAAP//////...</td>\n    </tr>\n    <tr>\n      <th>...</th>\n      <td>...</td>\n      <td>...</td>\n      <td>...</td>\n      <td>...</td>\n      <td>...</td>\n      <td>...</td>\n      <td>...</td>\n      <td>...</td>\n    </tr>\n    <tr>\n      <th>125</th>\n      <td>5</td>\n      <td>Amid Lamar Jackson trade request, Colts owner ...</td>\n      <td>CBS Sports</td>\n      <td>21 hours ago</td>\n      <td>2023-03-28 17:01:16.619419</td>\n      <td>We may be in the middle of the offseason, but ...</td>\n      <td>https://www.cbssports.com/nfl/news/amid-lamar-...</td>\n      <td>data:image/gif;base64,R0lGODlhAQABAIAAAP//////...</td>\n    </tr>\n    <tr>\n      <th>126</th>\n      <td>6</td>\n      <td>Canada vs. Honduras odds, picks, how to watch,...</td>\n      <td>CBS Sports</td>\n      <td>21 hours ago</td>\n      <td>2023-03-28 17:01:16.619419</td>\n      <td>Soccer best bets for Tuesday's Honduras vs. Ca...</td>\n      <td>https://www.cbssports.com/soccer/news/canada-v...</td>\n      <td>data:image/gif;base64,R0lGODlhAQABAIAAAP//////...</td>\n    </tr>\n    <tr>\n      <th>127</th>\n      <td>7</td>\n      <td>Scotland v Spain: Ryan Christie and Scott McTo...</td>\n      <td>BBC</td>\n      <td>21 hours ago</td>\n      <td>2023-03-28 17:01:16.619419</td>\n      <td>Ryan Christie and Scott McTominay are backed i...</td>\n      <td>https://www.bbc.com/sport/football/65101210</td>\n      <td>data:image/gif;base64,R0lGODlhAQABAIAAAP//////...</td>\n    </tr>\n    <tr>\n      <th>128</th>\n      <td>8</td>\n      <td>Young Sports Volunteers Inspire at Belfast Cit...</td>\n      <td>Ulster Rugby</td>\n      <td>22 hours ago</td>\n      <td>2023-03-28 16:01:16.619419</td>\n      <td>Young sports volunteers from across Ulster too...</td>\n      <td>https://ulster.rugby/content/siawards</td>\n      <td>data:image/gif;base64,R0lGODlhAQABAIAAAP//////...</td>\n    </tr>\n    <tr>\n      <th>129</th>\n      <td>9</td>\n      <td>HS sports recap: Spartans baseball wins 2</td>\n      <td>Village Living</td>\n      <td>22 hours ago</td>\n      <td>2023-03-28 16:01:16.619419</td>\n      <td>Here's a look back at the last week in Mountai...</td>\n      <td>https://www.villagelivingonline.com/sports/hs-...</td>\n      <td>data:image/gif;base64,R0lGODlhAQABAIAAAP//////...</td>\n    </tr>\n  </tbody>\n</table>\n<p>130 rows × 8 columns</p>\n</div>"
     },
     "execution_count": 43,
     "metadata": {},
     "output_type": "execute_result"
    }
   ],
   "source": [
    "articles"
   ],
   "metadata": {
    "collapsed": false,
    "pycharm": {
     "name": "#%%\n"
    }
   }
  },
  {
   "cell_type": "code",
   "execution_count": null,
   "outputs": [],
   "source": [],
   "metadata": {
    "collapsed": false,
    "pycharm": {
     "name": "#%%\n"
    }
   }
  }
 ],
 "metadata": {
  "kernelspec": {
   "display_name": "Python 3",
   "language": "python",
   "name": "python3"
  },
  "language_info": {
   "codemirror_mode": {
    "name": "ipython",
    "version": 2
   },
   "file_extension": ".py",
   "mimetype": "text/x-python",
   "name": "python",
   "nbconvert_exporter": "python",
   "pygments_lexer": "ipython2",
   "version": "2.7.6"
  }
 },
 "nbformat": 4,
 "nbformat_minor": 0
}